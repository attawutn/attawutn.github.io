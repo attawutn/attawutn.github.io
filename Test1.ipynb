{
  "nbformat": 4,
  "nbformat_minor": 0,
  "metadata": {
    "colab": {
      "name": "Test1.ipynb",
      "version": "0.3.2",
      "provenance": [],
      "include_colab_link": true
    },
    "kernelspec": {
      "name": "python3",
      "display_name": "Python 3"
    }
  },
  "cells": [
    {
      "cell_type": "markdown",
      "metadata": {
        "id": "view-in-github",
        "colab_type": "text"
      },
      "source": [
        "[View in Colaboratory](https://colab.research.google.com/github/cearmle/cearmle.github.io/blob/master/Test1.ipynb)"
      ]
    },
    {
      "metadata": {
        "id": "cJe9LJd7DND3",
        "colab_type": "code",
        "colab": {}
      },
      "cell_type": "code",
      "source": [
        "Test = 2\n",
        "test = 1"
      ],
      "execution_count": 0,
      "outputs": []
    },
    {
      "metadata": {
        "id": "-9DC76JwDsUx",
        "colab_type": "code",
        "colab": {
          "base_uri": "https://localhost:8080/",
          "height": 34
        },
        "outputId": "5af043b1-ea66-4bfe-d56a-470d5dfd61d6"
      },
      "cell_type": "code",
      "source": [
        "Test + test"
      ],
      "execution_count": 2,
      "outputs": [
        {
          "output_type": "execute_result",
          "data": {
            "text/plain": [
              "3"
            ]
          },
          "metadata": {
            "tags": []
          },
          "execution_count": 2
        }
      ]
    },
    {
      "metadata": {
        "id": "aMfJEJfqD12x",
        "colab_type": "text"
      },
      "cell_type": "markdown",
      "source": [
        "BlahBlahBlah"
      ]
    },
    {
      "metadata": {
        "id": "BY8tdnSyDvDA",
        "colab_type": "code",
        "colab": {}
      },
      "cell_type": "code",
      "source": [
        ""
      ],
      "execution_count": 0,
      "outputs": []
    },
    {
      "metadata": {
        "id": "1fuGqX4BD45_",
        "colab_type": "code",
        "colab": {}
      },
      "cell_type": "code",
      "source": [
        ""
      ],
      "execution_count": 0,
      "outputs": []
    }
  ]
}